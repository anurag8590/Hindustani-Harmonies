{
 "cells": [
  {
   "cell_type": "markdown",
   "metadata": {
    "id": "R9CxMBCB7cfc"
   },
   "source": [
    "##### 70/30 - M1 XGBoost = *46.85%* , M2 SVM = *75.50%* , M3 = (70/30) 4L - 37.75(Adadelta) , 38.74(Adam), (3L - 38.25) , \n",
    "M4 = (80/20) - 3L = 37.64 % , (4L - 36.6%),"
   ]
  },
  {
   "cell_type": "markdown",
   "metadata": {
    "id": "wfDYqZJir0UV"
   },
   "source": [
    "#Preparing the Dataset"
   ]
  },
  {
   "cell_type": "code",
   "execution_count": 5,
   "metadata": {
    "id": "fWYLfTECOKmv"
   },
   "outputs": [],
   "source": [
    "import numpy as np\n",
    "import pandas as pd\n",
    "import librosa\n",
    "import tensorflow as tf\n",
    "import os\n",
    "from tqdm import tqdm\n",
    "import math\n",
    "import json"
   ]
  },
  {
   "cell_type": "code",
   "execution_count": null,
   "metadata": {
    "id": "7qXGg_ge2jyT"
   },
   "outputs": [],
   "source": [
    "# #Testing single wav audio file \n",
    "# data_path = \"/content/drive/MyDrive/HMR_1.0/audio/01_20001_02_Raag_Multani.wav\"\n",
    "# signal , sr = librosa.load(data_path)\n",
    "# # print(signal.size)\n",
    "# # signal = signal[:SAMPLES_PER_TRACK]\n",
    "# # print(signal.size)"
   ]
  },
  {
   "cell_type": "code",
   "execution_count": null,
   "metadata": {
    "colab": {
     "base_uri": "https://localhost:8080/"
    },
    "id": "3zlLp2Fw7b6q",
    "outputId": "f43bc493-cebd-4931-9640-57db1e26e44e"
   },
   "outputs": [
    {
     "data": {
      "text/plain": [
       "array([1.1743161e-05, 2.1575574e-05, 3.8613460e-05, ..., 3.1245861e-06,\n",
       "       1.0712529e-06, 4.1646260e-07], dtype=float32)"
      ]
     },
     "execution_count": 54,
     "metadata": {},
     "output_type": "execute_result"
    }
   ],
   "source": [
    "# cqt = librosa.cqt(y=signal,sr=sr,hop_length = 512)[0]\n",
    "# cqt = np.abs(cqt)\n",
    "# cqt"
   ]
  },
  {
   "cell_type": "code",
   "execution_count": null,
   "metadata": {
    "colab": {
     "base_uri": "https://localhost:8080/"
    },
    "id": "hS6WRGZT2oOB",
    "outputId": "a31818d0-bc13-4044-81c0-83f5373a2982"
   },
   "outputs": [
    {
     "data": {
      "text/plain": [
       "(5168,)"
      ]
     },
     "execution_count": 31,
     "metadata": {},
     "output_type": "execute_result"
    }
   ],
   "source": [
    "sbrf = librosa.feature.spectral_rolloff(y=signal,sr=sr,n_fft = 1024, hop_length=512)[0]\n",
    "sbrf.shape"
   ]
  },
  {
   "cell_type": "code",
   "execution_count": null,
   "metadata": {
    "colab": {
     "base_uri": "https://localhost:8080/"
    },
    "id": "ITx31l7u0tK4",
    "outputId": "7ebe72e5-3e77-460d-c974-73d3fc6d2e00"
   },
   "outputs": [
    {
     "data": {
      "text/plain": [
       "(5168,)"
      ]
     },
     "execution_count": 23,
     "metadata": {},
     "output_type": "execute_result"
    }
   ],
   "source": [
    "scb = librosa.feature.spectral_bandwidth(y=signal,sr=sr,n_fft = 1024, hop_length=512)[0]\n",
    "scb.shape"
   ]
  },
  {
   "cell_type": "code",
   "execution_count": null,
   "metadata": {
    "colab": {
     "base_uri": "https://localhost:8080/"
    },
    "id": "2j0VgsQZvK8q",
    "outputId": "1f6609d1-f0d2-4c14-ede9-bea6da497329"
   },
   "outputs": [
    {
     "data": {
      "text/plain": [
       "(5168,)"
      ]
     },
     "execution_count": 7,
     "metadata": {},
     "output_type": "execute_result"
    }
   ],
   "source": [
    "sc = librosa.feature.tonnetz(y=signal,sr=sr,hop_length =512)[0]\n",
    "sc.shape"
   ]
  },
  {
   "cell_type": "code",
   "execution_count": null,
   "metadata": {
    "colab": {
     "base_uri": "https://localhost:8080/"
    },
    "id": "CBm-GqIeoLMI",
    "outputId": "ea86ca2d-6733-4870-a76c-ceb26a541d93"
   },
   "outputs": [
    {
     "data": {
      "text/plain": [
       "(5168,)"
      ]
     },
     "execution_count": 75,
     "metadata": {},
     "output_type": "execute_result"
    }
   ],
   "source": [
    "scn = librosa.feature.zero_crossing_rate(y=signal,frame_length=1024,hop_length=512)[0]\n",
    "scn.shape"
   ]
  },
  {
   "cell_type": "code",
   "execution_count": null,
   "metadata": {
    "colab": {
     "base_uri": "https://localhost:8080/"
    },
    "id": "kNlbYbC-pw1S",
    "outputId": "874fa38c-005b-4925-87db-55d2e488e412"
   },
   "outputs": [
    {
     "data": {
      "text/plain": [
       "(5168,)"
      ]
     },
     "execution_count": 88,
     "metadata": {},
     "output_type": "execute_result"
    }
   ],
   "source": [
    "scnt = librosa.feature.rms(y=signal,frame_length=1024,hop_length=512)[0]\n",
    "scnt.shape"
   ]
  },
  {
   "cell_type": "code",
   "execution_count": null,
   "metadata": {
    "id": "iZ1X7ar-INC6"
   },
   "outputs": [],
   "source": [
    "sc = librosa.stft(y=signal,n_fft = 2048, hop_length=512)[0]\n",
    "y_scale = np.abs(sc)**2\n",
    "log_yscale = librosa.power_to_db(y_scale)\n",
    "# log_mel_spectrogram = librosa.power_to_db(sc)[0]\n",
    "# log_mel_spectrogram=log_mel_spectrogram.T"
   ]
  },
  {
   "cell_type": "code",
   "execution_count": null,
   "metadata": {
    "colab": {
     "base_uri": "https://localhost:8080/"
    },
    "id": "4tpT6t8qIpVU",
    "outputId": "1c8293b5-3e42-4a98-b83e-7391aae433a1"
   },
   "outputs": [
    {
     "data": {
      "text/plain": [
       "(5168,)"
      ]
     },
     "execution_count": 53,
     "metadata": {},
     "output_type": "execute_result"
    }
   ],
   "source": [
    "log_yscale.shape"
   ]
  },
  {
   "cell_type": "code",
   "execution_count": null,
   "metadata": {
    "colab": {
     "base_uri": "https://localhost:8080/"
    },
    "id": "thr8fpIt24mr",
    "outputId": "e0a288c7-3b80-4762-d6f0-f643f2e0da6c"
   },
   "outputs": [
    {
     "data": {
      "text/plain": [
       "22050"
      ]
     },
     "execution_count": 9,
     "metadata": {},
     "output_type": "execute_result"
    }
   ],
   "source": [
    "sr"
   ]
  },
  {
   "cell_type": "code",
   "execution_count": 25,
   "metadata": {
    "colab": {
     "base_uri": "https://localhost:8080/",
     "height": 206
    },
    "id": "LL5A-udBPjH3",
    "outputId": "b3be1ff5-2e2f-4201-a378-e3a5519e59c1"
   },
   "outputs": [
    {
     "data": {
      "text/html": [
       "<div>\n",
       "<style scoped>\n",
       "    .dataframe tbody tr th:only-of-type {\n",
       "        vertical-align: middle;\n",
       "    }\n",
       "\n",
       "    .dataframe tbody tr th {\n",
       "        vertical-align: top;\n",
       "    }\n",
       "\n",
       "    .dataframe thead th {\n",
       "        text-align: right;\n",
       "    }\n",
       "</style>\n",
       "<table border=\"1\" class=\"dataframe\">\n",
       "  <thead>\n",
       "    <tr style=\"text-align: right;\">\n",
       "      <th></th>\n",
       "      <th>SL. No.</th>\n",
       "      <th>Name</th>\n",
       "      <th>Taal</th>\n",
       "    </tr>\n",
       "  </thead>\n",
       "  <tbody>\n",
       "    <tr>\n",
       "      <th>0</th>\n",
       "      <td>1</td>\n",
       "      <td>01_21001_1_03_Raga_-_Bilaskhani_Todi</td>\n",
       "      <td>ektaal</td>\n",
       "    </tr>\n",
       "    <tr>\n",
       "      <th>1</th>\n",
       "      <td>2</td>\n",
       "      <td>02_21002_1_01_Raga_Ahiri_Todi</td>\n",
       "      <td>ektaal</td>\n",
       "    </tr>\n",
       "    <tr>\n",
       "      <th>2</th>\n",
       "      <td>3</td>\n",
       "      <td>03_21003_1_01_Raga_Maru_Bihag</td>\n",
       "      <td>ektaal</td>\n",
       "    </tr>\n",
       "    <tr>\n",
       "      <th>3</th>\n",
       "      <td>4</td>\n",
       "      <td>04_21004_3_02_Raga_Darbari_Kanada</td>\n",
       "      <td>ektaal</td>\n",
       "    </tr>\n",
       "    <tr>\n",
       "      <th>4</th>\n",
       "      <td>5</td>\n",
       "      <td>05_21005_1_01_Raga_Deshi</td>\n",
       "      <td>ektaal</td>\n",
       "    </tr>\n",
       "  </tbody>\n",
       "</table>\n",
       "</div>"
      ],
      "text/plain": [
       "   SL. No.                                  Name    Taal\n",
       "0        1  01_21001_1_03_Raga_-_Bilaskhani_Todi  ektaal\n",
       "1        2         02_21002_1_01_Raga_Ahiri_Todi  ektaal\n",
       "2        3         03_21003_1_01_Raga_Maru_Bihag  ektaal\n",
       "3        4     04_21004_3_02_Raga_Darbari_Kanada  ektaal\n",
       "4        5              05_21005_1_01_Raga_Deshi  ektaal"
      ]
     },
     "execution_count": 25,
     "metadata": {},
     "output_type": "execute_result"
    }
   ],
   "source": [
    "#Loading of HMR dataset \n",
    "dataset_path='HMR_1.0\\audio'\n",
    "df=pd.read_excel('HMR_1.0\\HMR_dataframe.xlsx')\n",
    "df.head()"
   ]
  },
  {
   "cell_type": "code",
   "execution_count": 10,
   "metadata": {
    "id": "v9VTpXd9i3XK"
   },
   "outputs": [],
   "source": [
    "JSON_PATH = \"Data_feature_MFCC.json\"\n",
    "SAMPLE_RATE = 22050\n",
    "TRACK_DURATION = 120 \n",
    "SAMPLES_PER_TRACK = SAMPLE_RATE * TRACK_DURATION"
   ]
  },
  {
   "cell_type": "code",
   "execution_count": 11,
   "metadata": {
    "id": "28WsL3Oqi-ND"
   },
   "outputs": [],
   "source": [
    "data = {\n",
    "        \"mapping\": [],\n",
    "        \"labels\": [],\n",
    "        \"mfcc\": []\n",
    "    }"
   ]
  },
  {
   "cell_type": "code",
   "execution_count": 12,
   "metadata": {
    "id": "xKIJoDMAKzCR"
   },
   "outputs": [],
   "source": [
    "taal = {\n",
    "    \"rupaktaal\" : 0,\n",
    "    \"teentaal\" : 1,\n",
    "    \"jhaptaal\" : 2,\n",
    "    \"ektaal\" : 3\n",
    "}"
   ]
  },
  {
   "cell_type": "code",
   "execution_count": 13,
   "metadata": {
    "id": "TcUMktdrk7kq"
   },
   "outputs": [],
   "source": [
    "for i in taal.keys():\n",
    "    \n",
    "    data[\"mapping\"].append(i)"
   ]
  },
  {
   "cell_type": "code",
   "execution_count": 14,
   "metadata": {
    "colab": {
     "base_uri": "https://localhost:8080/"
    },
    "id": "B1Iujf5llIaV",
    "outputId": "2833dc2e-b455-495d-dd70-82875049ffed"
   },
   "outputs": [
    {
     "name": "stdout",
     "output_type": "stream",
     "text": [
      "{'mapping': ['rupaktaal', 'teentaal', 'jhaptaal', 'ektaal'], 'labels': [], 'mfcc': []}\n"
     ]
    }
   ],
   "source": [
    "print(data)"
   ]
  },
  {
   "cell_type": "code",
   "execution_count": 15,
   "metadata": {
    "id": "NMEYyuEyo5Ar"
   },
   "outputs": [],
   "source": [
    "def cut_if_necessary(signal):\n",
    "  signal = signal[:SAMPLES_PER_TRACK]\n",
    "  return signal"
   ]
  },
  {
   "cell_type": "code",
   "execution_count": 16,
   "metadata": {
    "id": "5OVHR2psrBhj"
   },
   "outputs": [],
   "source": [
    "from librosa.util import fix_length\n",
    "\n",
    "def pad_if_necessary(signal,sr):\n",
    "  padded_signal = fix_length(signal, size = 120*sr)\n",
    "  return padded_signal"
   ]
  },
  {
   "cell_type": "code",
   "execution_count": null,
   "metadata": {
    "id": "Xj9DvSjZpnN0"
   },
   "outputs": [],
   "source": [
    "import math\n",
    "SAMPLE_RATE = 22050\n",
    "TRACK_DURATION = 120 \n",
    "SAMPLES_PER_TRACK = SAMPLE_RATE * TRACK_DURATION\n",
    "#n_mfcc=13\n",
    "n_fft=1024\n",
    "hop_length=512\n",
    "num_segments=20\n",
    "  \n",
    "samples_per_segment = int(SAMPLES_PER_TRACK / num_segments)\n",
    "num_mfcc_vectors_per_segment = math.ceil(samples_per_segment / hop_length)"
   ]
  },
  {
   "cell_type": "code",
   "execution_count": null,
   "metadata": {
    "colab": {
     "base_uri": "https://localhost:8080/"
    },
    "id": "4MCF3vzRpvoT",
    "outputId": "348d20a4-fb6a-424f-d172-94991443f031"
   },
   "outputs": [
    {
     "name": "stdout",
     "output_type": "stream",
     "text": [
      "259\n",
      "132300\n"
     ]
    }
   ],
   "source": [
    "print(num_mfcc_vectors_per_segment)\n",
    "print(samples_per_segment)"
   ]
  },
  {
   "cell_type": "code",
   "execution_count": 17,
   "metadata": {
    "colab": {
     "base_uri": "https://localhost:8080/"
    },
    "id": "jjVbVplblrAJ",
    "outputId": "9f9c967c-4803-4c2e-ac3b-7b71296ad47c"
   },
   "outputs": [
    {
     "data": {
      "text/plain": [
       "{'mapping': ['rupaktaal', 'teentaal', 'jhaptaal', 'ektaal'],\n",
       " 'labels': [],\n",
       " 'mfcc': []}"
      ]
     },
     "execution_count": 17,
     "metadata": {},
     "output_type": "execute_result"
    }
   ],
   "source": [
    "data"
   ]
  },
  {
   "cell_type": "code",
   "execution_count": 18,
   "metadata": {
    "colab": {
     "base_uri": "https://localhost:8080/"
    },
    "id": "mRbfO4IS-19f",
    "outputId": "ccc4f939-022b-41ff-c5b0-4f00cae27e25"
   },
   "outputs": [
    {
     "data": {
      "text/plain": [
       "70272"
      ]
     },
     "execution_count": 18,
     "metadata": {},
     "output_type": "execute_result"
    }
   ],
   "source": [
    "import gc\n",
    "gc.collect()"
   ]
  },
  {
   "cell_type": "code",
   "execution_count": 27,
   "metadata": {
    "colab": {
     "base_uri": "https://localhost:8080/"
    },
    "id": "giWImzj6R5IH",
    "outputId": "8174a749-e3c8-4487-d68a-5f5e4714bc54",
    "scrolled": false
   },
   "outputs": [
    {
     "name": "stderr",
     "output_type": "stream",
     "text": [
      "0it [00:00, ?it/s]C:\\Users\\DSAI\\AppData\\Local\\Temp\\ipykernel_20772\\3919217910.py:16: UserWarning: PySoundFile failed. Trying audioread instead.\n",
      "  signal, sr = librosa.load(file_name,sr=SAMPLE_RATE)\n",
      "0it [00:00, ?it/s]"
     ]
    },
    {
     "name": "stdout",
     "output_type": "stream",
     "text": [
      "\n",
      "Processing: ektaal\n"
     ]
    },
    {
     "name": "stderr",
     "output_type": "stream",
     "text": [
      "\n"
     ]
    },
    {
     "ename": "OSError",
     "evalue": "[Errno 22] Invalid argument: 'HMR_1.0\\x07udio\\\\01_21001_1_03_Raga_-_Bilaskhani_Todi.wav'",
     "output_type": "error",
     "traceback": [
      "\u001b[1;31m---------------------------------------------------------------------------\u001b[0m",
      "\u001b[1;31mLibsndfileError\u001b[0m                           Traceback (most recent call last)",
      "File \u001b[1;32m~\\anaconda3\\envs\\tf\\lib\\site-packages\\librosa\\core\\audio.py:176\u001b[0m, in \u001b[0;36mload\u001b[1;34m(path, sr, mono, offset, duration, dtype, res_type)\u001b[0m\n\u001b[0;32m    175\u001b[0m \u001b[38;5;28;01mtry\u001b[39;00m:\n\u001b[1;32m--> 176\u001b[0m     y, sr_native \u001b[38;5;241m=\u001b[39m \u001b[43m__soundfile_load\u001b[49m\u001b[43m(\u001b[49m\u001b[43mpath\u001b[49m\u001b[43m,\u001b[49m\u001b[43m \u001b[49m\u001b[43moffset\u001b[49m\u001b[43m,\u001b[49m\u001b[43m \u001b[49m\u001b[43mduration\u001b[49m\u001b[43m,\u001b[49m\u001b[43m \u001b[49m\u001b[43mdtype\u001b[49m\u001b[43m)\u001b[49m\n\u001b[0;32m    178\u001b[0m \u001b[38;5;28;01mexcept\u001b[39;00m sf\u001b[38;5;241m.\u001b[39mSoundFileRuntimeError \u001b[38;5;28;01mas\u001b[39;00m exc:\n\u001b[0;32m    179\u001b[0m     \u001b[38;5;66;03m# If soundfile failed, try audioread instead\u001b[39;00m\n",
      "File \u001b[1;32m~\\anaconda3\\envs\\tf\\lib\\site-packages\\librosa\\core\\audio.py:209\u001b[0m, in \u001b[0;36m__soundfile_load\u001b[1;34m(path, offset, duration, dtype)\u001b[0m\n\u001b[0;32m    207\u001b[0m \u001b[38;5;28;01melse\u001b[39;00m:\n\u001b[0;32m    208\u001b[0m     \u001b[38;5;66;03m# Otherwise, create the soundfile object\u001b[39;00m\n\u001b[1;32m--> 209\u001b[0m     context \u001b[38;5;241m=\u001b[39m \u001b[43msf\u001b[49m\u001b[38;5;241;43m.\u001b[39;49m\u001b[43mSoundFile\u001b[49m\u001b[43m(\u001b[49m\u001b[43mpath\u001b[49m\u001b[43m)\u001b[49m\n\u001b[0;32m    211\u001b[0m \u001b[38;5;28;01mwith\u001b[39;00m context \u001b[38;5;28;01mas\u001b[39;00m sf_desc:\n",
      "File \u001b[1;32m~\\anaconda3\\envs\\tf\\lib\\site-packages\\soundfile.py:658\u001b[0m, in \u001b[0;36mSoundFile.__init__\u001b[1;34m(self, file, mode, samplerate, channels, subtype, endian, format, closefd)\u001b[0m\n\u001b[0;32m    656\u001b[0m \u001b[38;5;28mself\u001b[39m\u001b[38;5;241m.\u001b[39m_info \u001b[38;5;241m=\u001b[39m _create_info_struct(file, mode, samplerate, channels,\n\u001b[0;32m    657\u001b[0m                                  \u001b[38;5;28mformat\u001b[39m, subtype, endian)\n\u001b[1;32m--> 658\u001b[0m \u001b[38;5;28mself\u001b[39m\u001b[38;5;241m.\u001b[39m_file \u001b[38;5;241m=\u001b[39m \u001b[38;5;28;43mself\u001b[39;49m\u001b[38;5;241;43m.\u001b[39;49m\u001b[43m_open\u001b[49m\u001b[43m(\u001b[49m\u001b[43mfile\u001b[49m\u001b[43m,\u001b[49m\u001b[43m \u001b[49m\u001b[43mmode_int\u001b[49m\u001b[43m,\u001b[49m\u001b[43m \u001b[49m\u001b[43mclosefd\u001b[49m\u001b[43m)\u001b[49m\n\u001b[0;32m    659\u001b[0m \u001b[38;5;28;01mif\u001b[39;00m \u001b[38;5;28mset\u001b[39m(mode)\u001b[38;5;241m.\u001b[39missuperset(\u001b[38;5;124m'\u001b[39m\u001b[38;5;124mr+\u001b[39m\u001b[38;5;124m'\u001b[39m) \u001b[38;5;129;01mand\u001b[39;00m \u001b[38;5;28mself\u001b[39m\u001b[38;5;241m.\u001b[39mseekable():\n\u001b[0;32m    660\u001b[0m     \u001b[38;5;66;03m# Move write position to 0 (like in Python file objects)\u001b[39;00m\n",
      "File \u001b[1;32m~\\anaconda3\\envs\\tf\\lib\\site-packages\\soundfile.py:1216\u001b[0m, in \u001b[0;36mSoundFile._open\u001b[1;34m(self, file, mode_int, closefd)\u001b[0m\n\u001b[0;32m   1215\u001b[0m     err \u001b[38;5;241m=\u001b[39m _snd\u001b[38;5;241m.\u001b[39msf_error(file_ptr)\n\u001b[1;32m-> 1216\u001b[0m     \u001b[38;5;28;01mraise\u001b[39;00m LibsndfileError(err, prefix\u001b[38;5;241m=\u001b[39m\u001b[38;5;124m\"\u001b[39m\u001b[38;5;124mError opening \u001b[39m\u001b[38;5;132;01m{0!r}\u001b[39;00m\u001b[38;5;124m: \u001b[39m\u001b[38;5;124m\"\u001b[39m\u001b[38;5;241m.\u001b[39mformat(\u001b[38;5;28mself\u001b[39m\u001b[38;5;241m.\u001b[39mname))\n\u001b[0;32m   1217\u001b[0m \u001b[38;5;28;01mif\u001b[39;00m mode_int \u001b[38;5;241m==\u001b[39m _snd\u001b[38;5;241m.\u001b[39mSFM_WRITE:\n\u001b[0;32m   1218\u001b[0m     \u001b[38;5;66;03m# Due to a bug in libsndfile version <= 1.0.25, frames != 0\u001b[39;00m\n\u001b[0;32m   1219\u001b[0m     \u001b[38;5;66;03m# when opening a named pipe in SFM_WRITE mode.\u001b[39;00m\n\u001b[0;32m   1220\u001b[0m     \u001b[38;5;66;03m# See http://github.com/erikd/libsndfile/issues/77.\u001b[39;00m\n",
      "\u001b[1;31mLibsndfileError\u001b[0m: Error opening 'HMR_1.0\\x07udio\\\\01_21001_1_03_Raga_-_Bilaskhani_Todi.wav': System error.",
      "\nDuring handling of the above exception, another exception occurred:\n",
      "\u001b[1;31mOSError\u001b[0m                                   Traceback (most recent call last)",
      "Cell \u001b[1;32mIn[27], line 16\u001b[0m\n\u001b[0;32m     12\u001b[0m final_class_labels\u001b[38;5;241m=\u001b[39mrow[\u001b[38;5;124m\"\u001b[39m\u001b[38;5;124mTaal\u001b[39m\u001b[38;5;124m\"\u001b[39m]\n\u001b[0;32m     13\u001b[0m \u001b[38;5;28mprint\u001b[39m(\u001b[38;5;124m\"\u001b[39m\u001b[38;5;130;01m\\n\u001b[39;00m\u001b[38;5;124mProcessing: \u001b[39m\u001b[38;5;132;01m{}\u001b[39;00m\u001b[38;5;124m\"\u001b[39m\u001b[38;5;241m.\u001b[39mformat(final_class_labels))\n\u001b[1;32m---> 16\u001b[0m signal, sr \u001b[38;5;241m=\u001b[39m \u001b[43mlibrosa\u001b[49m\u001b[38;5;241;43m.\u001b[39;49m\u001b[43mload\u001b[49m\u001b[43m(\u001b[49m\u001b[43mfile_name\u001b[49m\u001b[43m,\u001b[49m\u001b[43msr\u001b[49m\u001b[38;5;241;43m=\u001b[39;49m\u001b[43mSAMPLE_RATE\u001b[49m\u001b[43m)\u001b[49m\n\u001b[0;32m     18\u001b[0m \u001b[38;5;28;01mif\u001b[39;00m(signal\u001b[38;5;241m.\u001b[39msize \u001b[38;5;241m>\u001b[39m SAMPLES_PER_TRACK):\n\u001b[0;32m     19\u001b[0m     signal \u001b[38;5;241m=\u001b[39m cut_if_necessary(signal)\n",
      "File \u001b[1;32m~\\anaconda3\\envs\\tf\\lib\\site-packages\\librosa\\core\\audio.py:184\u001b[0m, in \u001b[0;36mload\u001b[1;34m(path, sr, mono, offset, duration, dtype, res_type)\u001b[0m\n\u001b[0;32m    180\u001b[0m \u001b[38;5;28;01mif\u001b[39;00m \u001b[38;5;28misinstance\u001b[39m(path, (\u001b[38;5;28mstr\u001b[39m, pathlib\u001b[38;5;241m.\u001b[39mPurePath)):\n\u001b[0;32m    181\u001b[0m     warnings\u001b[38;5;241m.\u001b[39mwarn(\n\u001b[0;32m    182\u001b[0m         \u001b[38;5;124m\"\u001b[39m\u001b[38;5;124mPySoundFile failed. Trying audioread instead.\u001b[39m\u001b[38;5;124m\"\u001b[39m, stacklevel\u001b[38;5;241m=\u001b[39m\u001b[38;5;241m2\u001b[39m\n\u001b[0;32m    183\u001b[0m     )\n\u001b[1;32m--> 184\u001b[0m     y, sr_native \u001b[38;5;241m=\u001b[39m \u001b[43m__audioread_load\u001b[49m\u001b[43m(\u001b[49m\u001b[43mpath\u001b[49m\u001b[43m,\u001b[49m\u001b[43m \u001b[49m\u001b[43moffset\u001b[49m\u001b[43m,\u001b[49m\u001b[43m \u001b[49m\u001b[43mduration\u001b[49m\u001b[43m,\u001b[49m\u001b[43m \u001b[49m\u001b[43mdtype\u001b[49m\u001b[43m)\u001b[49m\n\u001b[0;32m    185\u001b[0m \u001b[38;5;28;01melse\u001b[39;00m:\n\u001b[0;32m    186\u001b[0m     \u001b[38;5;28;01mraise\u001b[39;00m exc\n",
      "File \u001b[1;32m~\\anaconda3\\envs\\tf\\lib\\site-packages\\decorator.py:232\u001b[0m, in \u001b[0;36mdecorate.<locals>.fun\u001b[1;34m(*args, **kw)\u001b[0m\n\u001b[0;32m    230\u001b[0m \u001b[38;5;28;01mif\u001b[39;00m \u001b[38;5;129;01mnot\u001b[39;00m kwsyntax:\n\u001b[0;32m    231\u001b[0m     args, kw \u001b[38;5;241m=\u001b[39m fix(args, kw, sig)\n\u001b[1;32m--> 232\u001b[0m \u001b[38;5;28;01mreturn\u001b[39;00m caller(func, \u001b[38;5;241m*\u001b[39m(extras \u001b[38;5;241m+\u001b[39m args), \u001b[38;5;241m*\u001b[39m\u001b[38;5;241m*\u001b[39mkw)\n",
      "File \u001b[1;32m~\\anaconda3\\envs\\tf\\lib\\site-packages\\librosa\\util\\decorators.py:60\u001b[0m, in \u001b[0;36mdeprecated.<locals>.__wrapper\u001b[1;34m(func, *args, **kwargs)\u001b[0m\n\u001b[0;32m     51\u001b[0m \u001b[38;5;124;03m\"\"\"Warn the user, and then proceed.\"\"\"\u001b[39;00m\n\u001b[0;32m     52\u001b[0m warnings\u001b[38;5;241m.\u001b[39mwarn(\n\u001b[0;32m     53\u001b[0m     \u001b[38;5;124m\"\u001b[39m\u001b[38;5;132;01m{:s}\u001b[39;00m\u001b[38;5;124m.\u001b[39m\u001b[38;5;132;01m{:s}\u001b[39;00m\u001b[38;5;130;01m\\n\u001b[39;00m\u001b[38;5;130;01m\\t\u001b[39;00m\u001b[38;5;124mDeprecated as of librosa version \u001b[39m\u001b[38;5;132;01m{:s}\u001b[39;00m\u001b[38;5;124m.\u001b[39m\u001b[38;5;124m\"\u001b[39m\n\u001b[0;32m     54\u001b[0m     \u001b[38;5;124m\"\u001b[39m\u001b[38;5;130;01m\\n\u001b[39;00m\u001b[38;5;130;01m\\t\u001b[39;00m\u001b[38;5;124mIt will be removed in librosa version \u001b[39m\u001b[38;5;132;01m{:s}\u001b[39;00m\u001b[38;5;124m.\u001b[39m\u001b[38;5;124m\"\u001b[39m\u001b[38;5;241m.\u001b[39mformat(\n\u001b[1;32m   (...)\u001b[0m\n\u001b[0;32m     58\u001b[0m     stacklevel\u001b[38;5;241m=\u001b[39m\u001b[38;5;241m3\u001b[39m,  \u001b[38;5;66;03m# Would be 2, but the decorator adds a level\u001b[39;00m\n\u001b[0;32m     59\u001b[0m )\n\u001b[1;32m---> 60\u001b[0m \u001b[38;5;28;01mreturn\u001b[39;00m func(\u001b[38;5;241m*\u001b[39margs, \u001b[38;5;241m*\u001b[39m\u001b[38;5;241m*\u001b[39mkwargs)\n",
      "File \u001b[1;32m~\\anaconda3\\envs\\tf\\lib\\site-packages\\librosa\\core\\audio.py:241\u001b[0m, in \u001b[0;36m__audioread_load\u001b[1;34m(path, offset, duration, dtype)\u001b[0m\n\u001b[0;32m    238\u001b[0m     reader \u001b[38;5;241m=\u001b[39m path\n\u001b[0;32m    239\u001b[0m \u001b[38;5;28;01melse\u001b[39;00m:\n\u001b[0;32m    240\u001b[0m     \u001b[38;5;66;03m# If the input was not an audioread object, try to open it\u001b[39;00m\n\u001b[1;32m--> 241\u001b[0m     reader \u001b[38;5;241m=\u001b[39m \u001b[43maudioread\u001b[49m\u001b[38;5;241;43m.\u001b[39;49m\u001b[43maudio_open\u001b[49m\u001b[43m(\u001b[49m\u001b[43mpath\u001b[49m\u001b[43m)\u001b[49m\n\u001b[0;32m    243\u001b[0m \u001b[38;5;28;01mwith\u001b[39;00m reader \u001b[38;5;28;01mas\u001b[39;00m input_file:\n\u001b[0;32m    244\u001b[0m     sr_native \u001b[38;5;241m=\u001b[39m input_file\u001b[38;5;241m.\u001b[39msamplerate\n",
      "File \u001b[1;32m~\\anaconda3\\envs\\tf\\lib\\site-packages\\audioread\\__init__.py:127\u001b[0m, in \u001b[0;36maudio_open\u001b[1;34m(path, backends)\u001b[0m\n\u001b[0;32m    125\u001b[0m \u001b[38;5;28;01mfor\u001b[39;00m BackendClass \u001b[38;5;129;01min\u001b[39;00m backends:\n\u001b[0;32m    126\u001b[0m     \u001b[38;5;28;01mtry\u001b[39;00m:\n\u001b[1;32m--> 127\u001b[0m         \u001b[38;5;28;01mreturn\u001b[39;00m \u001b[43mBackendClass\u001b[49m\u001b[43m(\u001b[49m\u001b[43mpath\u001b[49m\u001b[43m)\u001b[49m\n\u001b[0;32m    128\u001b[0m     \u001b[38;5;28;01mexcept\u001b[39;00m DecodeError:\n\u001b[0;32m    129\u001b[0m         \u001b[38;5;28;01mpass\u001b[39;00m\n",
      "File \u001b[1;32m~\\anaconda3\\envs\\tf\\lib\\site-packages\\audioread\\rawread.py:59\u001b[0m, in \u001b[0;36mRawAudioFile.__init__\u001b[1;34m(self, filename)\u001b[0m\n\u001b[0;32m     58\u001b[0m \u001b[38;5;28;01mdef\u001b[39;00m \u001b[38;5;21m__init__\u001b[39m(\u001b[38;5;28mself\u001b[39m, filename):\n\u001b[1;32m---> 59\u001b[0m     \u001b[38;5;28mself\u001b[39m\u001b[38;5;241m.\u001b[39m_fh \u001b[38;5;241m=\u001b[39m \u001b[38;5;28;43mopen\u001b[39;49m\u001b[43m(\u001b[49m\u001b[43mfilename\u001b[49m\u001b[43m,\u001b[49m\u001b[43m \u001b[49m\u001b[38;5;124;43m'\u001b[39;49m\u001b[38;5;124;43mrb\u001b[39;49m\u001b[38;5;124;43m'\u001b[39;49m\u001b[43m)\u001b[49m\n\u001b[0;32m     61\u001b[0m     \u001b[38;5;28;01mtry\u001b[39;00m:\n\u001b[0;32m     62\u001b[0m         \u001b[38;5;28mself\u001b[39m\u001b[38;5;241m.\u001b[39m_file \u001b[38;5;241m=\u001b[39m aifc\u001b[38;5;241m.\u001b[39mopen(\u001b[38;5;28mself\u001b[39m\u001b[38;5;241m.\u001b[39m_fh)\n",
      "\u001b[1;31mOSError\u001b[0m: [Errno 22] Invalid argument: 'HMR_1.0\\x07udio\\\\01_21001_1_03_Raga_-_Bilaskhani_Todi.wav'"
     ]
    }
   ],
   "source": [
    "n_mfcc=200\n",
    "n_fft=2048\n",
    "hop_length=512\n",
    "num_segments=40\n",
    "  \n",
    "samples_per_segment = int(SAMPLES_PER_TRACK / num_segments)\n",
    "num_mfcc_vectors_per_segment = math.ceil(samples_per_segment / hop_length)\n",
    "\n",
    "\n",
    "for index_num,row in tqdm(df.iterrows()):\n",
    "    file_name = os.path.join(dataset_path,str(row[\"Name\"])+'.wav')\n",
    "    final_class_labels=row[\"Taal\"]\n",
    "    print(\"\\nProcessing: {}\".format(final_class_labels))\n",
    "\n",
    "\n",
    "    signal, sr = librosa.load(file_name,sr=SAMPLE_RATE)\n",
    "\n",
    "    if(signal.size > SAMPLES_PER_TRACK):\n",
    "        signal = cut_if_necessary(signal)\n",
    "\n",
    "    elif(signal.size < SAMPLES_PER_TRACK):\n",
    "        signal = pad_if_necessary(signal,sr)\n",
    "\n",
    "    else:\n",
    "        pass\n",
    "\n",
    "\n",
    "    for i in range(num_segments):\n",
    "        \n",
    "\n",
    "        start = samples_per_segment * i\n",
    "        finish = start + samples_per_segment\n",
    "        \n",
    "        mfcc = librosa.feature.mfcc(signal[start:finish], sample_rate, n_mfcc=num_mfcc, n_fft=n_fft, hop_length=hop_length)\n",
    "        mfcc = mfcc.T\n",
    "\n",
    "      # mfcc = librosa.feature.zero_crossing_rate(y=signal[start:finish],sr=sr,n_fft=n_fft,hop_length=hop_length)[0]\n",
    "      # log_mspec = librosa.power_to_db(mfcc)\n",
    "      # mfcc = librosa.feature.zero_crossing_rate(y=signal[start:finish],frame_length=1024,hop_length=512)[0]\n",
    "      # mfcc = librosa.feature.rms(y=signal[start:finish],frame_length=1024,hop_length=512)[0]\n",
    "      # mfcc = librosa.feature.tonnetz(y=signal[start:finish],sr=sr,hop_length=hop_length)[0]\n",
    "      # mfcc = librosa.feature.spectral_bandwidth(y=signal[start:finish],sr=sr,n_fft = 1024, hop_length=512)[0]\n",
    "      # mfcc = librosa.feature.spectral_rolloff(y=signal[start:finish],sr=sr,n_fft = 1024, hop_length=512)[0]\n",
    "#       cqt = librosa.cqt(y=signal[start:finish],sr=sr,hop_length = 512)[0]\n",
    "#       cqt = np.abs(cqt)\n",
    "#       mfcc = cqt.T\n",
    "\n",
    "    \n",
    "\n",
    "\n",
    "        if len(mfcc) == num_mfcc_vectors_per_segment:\n",
    "            \n",
    "            data[\"mfcc\"].append(mfcc.tolist())\n",
    "            data[\"labels\"].append(taal[final_class_labels])\n",
    "            print(\"{}, segment:{}\".format(file_name, i+1))\n"
   ]
  },
  {
   "cell_type": "code",
   "execution_count": null,
   "metadata": {
    "id": "j-6YyUJR1jq0"
   },
   "outputs": [],
   "source": [
    "with open(JSON_PATH, \"w\") as fp:\n",
    "  json.dump(data, fp, indent=4)"
   ]
  },
  {
   "cell_type": "markdown",
   "metadata": {
    "id": "rIVlXcvoZx0m"
   },
   "source": [
    "#ANN "
   ]
  },
  {
   "cell_type": "code",
   "execution_count": null,
   "metadata": {
    "id": "SViTZ0qohBbl"
   },
   "outputs": [],
   "source": [
    "import json\n",
    "import numpy as np\n",
    "from sklearn.model_selection import train_test_split\n",
    "import tensorflow.keras as keras\n",
    "import matplotlib.pyplot as plt"
   ]
  },
  {
   "cell_type": "code",
   "execution_count": null,
   "metadata": {
    "id": "qM9aZL6dhGRm"
   },
   "outputs": [],
   "source": [
    "DATA_PATH = \"/content/drive/MyDrive/HMR_1.0/data_10.json\""
   ]
  },
  {
   "cell_type": "code",
   "execution_count": null,
   "metadata": {
    "id": "xcC4x6I7hJTi"
   },
   "outputs": [],
   "source": [
    "def load_data(data_path):\n",
    "    \"\"\"Loads training dataset from json file.\n",
    "        :param data_path (str): Path to json file containing data\n",
    "        :return X (ndarray): Inputs\n",
    "        :return y (ndarray): Targets\n",
    "    \"\"\"\n",
    "\n",
    "    with open(data_path, \"r\") as fp:\n",
    "        data = json.load(fp)\n",
    "\n",
    "    # convert lists to numpy arrays\n",
    "    X = np.array(data[\"mfcc\"])\n",
    "    y = np.array(data[\"labels\"])\n",
    "\n",
    "    print(\"Data succesfully loaded!\")\n",
    "\n",
    "    return X, y"
   ]
  },
  {
   "cell_type": "code",
   "execution_count": null,
   "metadata": {
    "colab": {
     "base_uri": "https://localhost:8080/"
    },
    "id": "NiBuDamVqxy0",
    "outputId": "d9eb5dbe-3833-44c3-a9e3-e7858fe7d3a1"
   },
   "outputs": [
    {
     "data": {
      "text/plain": [
       "10168340"
      ]
     },
     "execution_count": 19,
     "metadata": {},
     "output_type": "execute_result"
    }
   ],
   "source": [
    "X.size"
   ]
  },
  {
   "cell_type": "code",
   "execution_count": null,
   "metadata": {
    "colab": {
     "base_uri": "https://localhost:8080/"
    },
    "id": "9nbRkHgBrCBt",
    "outputId": "18263a33-558e-4c93-b252-8afadaf99aa3"
   },
   "outputs": [
    {
     "data": {
      "text/plain": [
       "3020"
      ]
     },
     "execution_count": 20,
     "metadata": {},
     "output_type": "execute_result"
    }
   ],
   "source": [
    "y.size"
   ]
  },
  {
   "cell_type": "code",
   "execution_count": null,
   "metadata": {
    "colab": {
     "base_uri": "https://localhost:8080/"
    },
    "id": "VqAre8mFrjmk",
    "outputId": "50f529bd-f683-4bc1-9a5f-3e49f213171d"
   },
   "outputs": [
    {
     "data": {
      "text/plain": [
       "259"
      ]
     },
     "execution_count": 26,
     "metadata": {},
     "output_type": "execute_result"
    }
   ],
   "source": [
    "X.shape[1]"
   ]
  },
  {
   "cell_type": "code",
   "execution_count": null,
   "metadata": {
    "id": "Z7Rq0K9IhSFy"
   },
   "outputs": [],
   "source": [
    "def plot_history(history):\n",
    "    \"\"\"Plots accuracy/loss for training/validation set as a function of the epochs\n",
    "        :param history: Training history of model\n",
    "        :return:\n",
    "    \"\"\"\n",
    "\n",
    "    fig, axs = plt.subplots(2)\n",
    "\n",
    "    # create accuracy sublpot\n",
    "    axs[0].plot(history.history[\"accuracy\"], label=\"train accuracy\")\n",
    "    axs[0].plot(history.history[\"val_accuracy\"], label=\"test accuracy\")\n",
    "    axs[0].set_ylabel(\"Accuracy\")\n",
    "    axs[0].legend(loc=\"lower right\")\n",
    "    axs[0].set_title(\"Accuracy eval\")\n",
    "\n",
    "    # create error sublpot\n",
    "    axs[1].plot(history.history[\"loss\"], label=\"train error\")\n",
    "    axs[1].plot(history.history[\"val_loss\"], label=\"test error\")\n",
    "    axs[1].set_ylabel(\"Error\")\n",
    "    axs[1].set_xlabel(\"Epoch\")\n",
    "    axs[1].legend(loc=\"upper right\")\n",
    "    axs[1].set_title(\"Error eval\")\n",
    "\n",
    "    plt.show()"
   ]
  },
  {
   "cell_type": "code",
   "execution_count": null,
   "metadata": {
    "colab": {
     "base_uri": "https://localhost:8080/",
     "height": 1000
    },
    "id": "BP5W3-7QhS7D",
    "outputId": "fcb5fcf3-3bab-474b-a5dd-107dacb509e3"
   },
   "outputs": [
    {
     "name": "stdout",
     "output_type": "stream",
     "text": [
      "Data succesfully loaded!\n",
      "Model: \"sequential\"\n",
      "_________________________________________________________________\n",
      " Layer (type)                Output Shape              Param #   \n",
      "=================================================================\n",
      " flatten (Flatten)           (None, 3367)              0         \n",
      "                                                                 \n",
      " dense (Dense)               (None, 512)               1724416   \n",
      "                                                                 \n",
      " dropout (Dropout)           (None, 512)               0         \n",
      "                                                                 \n",
      " dense_1 (Dense)             (None, 256)               131328    \n",
      "                                                                 \n",
      " dropout_1 (Dropout)         (None, 256)               0         \n",
      "                                                                 \n",
      " dense_2 (Dense)             (None, 64)                16448     \n",
      "                                                                 \n",
      " dropout_2 (Dropout)         (None, 64)                0         \n",
      "                                                                 \n",
      " dense_3 (Dense)             (None, 4)                 260       \n",
      "                                                                 \n",
      "=================================================================\n",
      "Total params: 1,872,452\n",
      "Trainable params: 1,872,452\n",
      "Non-trainable params: 0\n",
      "_________________________________________________________________\n",
      "Epoch 1/100\n",
      "76/76 [==============================] - 6s 59ms/step - loss: 25.8161 - accuracy: 0.3142 - val_loss: 3.1244 - val_accuracy: 0.2947\n",
      "Epoch 2/100\n",
      "76/76 [==============================] - 3s 45ms/step - loss: 9.5736 - accuracy: 0.3034 - val_loss: 2.6656 - val_accuracy: 0.3593\n",
      "Epoch 3/100\n",
      "76/76 [==============================] - 3s 42ms/step - loss: 5.9760 - accuracy: 0.3046 - val_loss: 2.5888 - val_accuracy: 0.3046\n",
      "Epoch 4/100\n",
      "76/76 [==============================] - 3s 42ms/step - loss: 4.3689 - accuracy: 0.3104 - val_loss: 2.5505 - val_accuracy: 0.3328\n",
      "Epoch 5/100\n",
      "76/76 [==============================] - 4s 53ms/step - loss: 3.5635 - accuracy: 0.3419 - val_loss: 2.5405 - val_accuracy: 0.3262\n",
      "Epoch 6/100\n",
      "76/76 [==============================] - 4s 48ms/step - loss: 3.1043 - accuracy: 0.3377 - val_loss: 2.4576 - val_accuracy: 0.4305\n",
      "Epoch 7/100\n",
      "76/76 [==============================] - 3s 39ms/step - loss: 2.7241 - accuracy: 0.3489 - val_loss: 2.4562 - val_accuracy: 0.3874\n",
      "Epoch 8/100\n",
      "76/76 [==============================] - 3s 40ms/step - loss: 2.5783 - accuracy: 0.3539 - val_loss: 2.4671 - val_accuracy: 0.3990\n",
      "Epoch 9/100\n",
      "76/76 [==============================] - 4s 47ms/step - loss: 2.5512 - accuracy: 0.3717 - val_loss: 2.4663 - val_accuracy: 0.4106\n",
      "Epoch 10/100\n",
      "76/76 [==============================] - 4s 52ms/step - loss: 2.5117 - accuracy: 0.3767 - val_loss: 2.4512 - val_accuracy: 0.4106\n",
      "Epoch 11/100\n",
      "76/76 [==============================] - 3s 40ms/step - loss: 2.5037 - accuracy: 0.3638 - val_loss: 2.4615 - val_accuracy: 0.3659\n",
      "Epoch 12/100\n",
      "76/76 [==============================] - 3s 40ms/step - loss: 2.4767 - accuracy: 0.3605 - val_loss: 2.4357 - val_accuracy: 0.3609\n",
      "Epoch 13/100\n",
      "76/76 [==============================] - 3s 42ms/step - loss: 2.4635 - accuracy: 0.3783 - val_loss: 2.4218 - val_accuracy: 0.3825\n",
      "Epoch 14/100\n",
      "76/76 [==============================] - 4s 57ms/step - loss: 2.4508 - accuracy: 0.3804 - val_loss: 2.3979 - val_accuracy: 0.3974\n",
      "Epoch 15/100\n",
      "76/76 [==============================] - 3s 41ms/step - loss: 2.4137 - accuracy: 0.3783 - val_loss: 2.3957 - val_accuracy: 0.3709\n",
      "Epoch 16/100\n",
      "76/76 [==============================] - 3s 39ms/step - loss: 2.4098 - accuracy: 0.3895 - val_loss: 2.3793 - val_accuracy: 0.3576\n",
      "Epoch 17/100\n",
      "76/76 [==============================] - 3s 40ms/step - loss: 2.3990 - accuracy: 0.3969 - val_loss: 2.3814 - val_accuracy: 0.3974\n",
      "Epoch 18/100\n",
      "76/76 [==============================] - 4s 52ms/step - loss: 2.3925 - accuracy: 0.3990 - val_loss: 2.3714 - val_accuracy: 0.3692\n",
      "Epoch 19/100\n",
      "76/76 [==============================] - 4s 46ms/step - loss: 2.3754 - accuracy: 0.4019 - val_loss: 2.3558 - val_accuracy: 0.3924\n",
      "Epoch 20/100\n",
      "76/76 [==============================] - 3s 40ms/step - loss: 2.3587 - accuracy: 0.3936 - val_loss: 2.3402 - val_accuracy: 0.3891\n",
      "Epoch 21/100\n",
      "76/76 [==============================] - 3s 40ms/step - loss: 2.3382 - accuracy: 0.4081 - val_loss: 2.3420 - val_accuracy: 0.4023\n",
      "Epoch 22/100\n",
      "76/76 [==============================] - 3s 43ms/step - loss: 2.3376 - accuracy: 0.4189 - val_loss: 2.3297 - val_accuracy: 0.3874\n",
      "Epoch 23/100\n",
      "76/76 [==============================] - 4s 54ms/step - loss: 2.3287 - accuracy: 0.4156 - val_loss: 2.3317 - val_accuracy: 0.3808\n",
      "Epoch 24/100\n",
      "76/76 [==============================] - 4s 53ms/step - loss: 2.3185 - accuracy: 0.4292 - val_loss: 2.3185 - val_accuracy: 0.4139\n",
      "Epoch 25/100\n",
      "76/76 [==============================] - 5s 68ms/step - loss: 2.3201 - accuracy: 0.4089 - val_loss: 2.3078 - val_accuracy: 0.4089\n",
      "Epoch 26/100\n",
      "76/76 [==============================] - 6s 83ms/step - loss: 2.3078 - accuracy: 0.4110 - val_loss: 2.3088 - val_accuracy: 0.3974\n",
      "Epoch 27/100\n",
      "76/76 [==============================] - 3s 44ms/step - loss: 2.2913 - accuracy: 0.4400 - val_loss: 2.3090 - val_accuracy: 0.3974\n",
      "Epoch 28/100\n",
      "76/76 [==============================] - 4s 48ms/step - loss: 2.2953 - accuracy: 0.4325 - val_loss: 2.2886 - val_accuracy: 0.4040\n",
      "Epoch 29/100\n",
      "76/76 [==============================] - 9s 113ms/step - loss: 2.2710 - accuracy: 0.4350 - val_loss: 2.2904 - val_accuracy: 0.4007\n",
      "Epoch 30/100\n",
      "76/76 [==============================] - 8s 99ms/step - loss: 2.2699 - accuracy: 0.4089 - val_loss: 2.2856 - val_accuracy: 0.4040\n",
      "Epoch 31/100\n",
      "76/76 [==============================] - 7s 93ms/step - loss: 2.2619 - accuracy: 0.4243 - val_loss: 2.2757 - val_accuracy: 0.4156\n",
      "Epoch 32/100\n",
      "76/76 [==============================] - 5s 70ms/step - loss: 2.2473 - accuracy: 0.4379 - val_loss: 2.2805 - val_accuracy: 0.4089\n",
      "Epoch 33/100\n",
      "76/76 [==============================] - 4s 57ms/step - loss: 2.2439 - accuracy: 0.4346 - val_loss: 2.2601 - val_accuracy: 0.4222\n",
      "Epoch 34/100\n",
      "76/76 [==============================] - 6s 76ms/step - loss: 2.2204 - accuracy: 0.4338 - val_loss: 2.2663 - val_accuracy: 0.3957\n",
      "Epoch 35/100\n",
      "76/76 [==============================] - 4s 47ms/step - loss: 2.2250 - accuracy: 0.4412 - val_loss: 2.2520 - val_accuracy: 0.4139\n",
      "Epoch 36/100\n",
      "76/76 [==============================] - 5s 61ms/step - loss: 2.2196 - accuracy: 0.4375 - val_loss: 2.2725 - val_accuracy: 0.3940\n",
      "Epoch 37/100\n",
      "76/76 [==============================] - 5s 64ms/step - loss: 2.2152 - accuracy: 0.4524 - val_loss: 2.2385 - val_accuracy: 0.4089\n",
      "Epoch 38/100\n",
      "76/76 [==============================] - 3s 46ms/step - loss: 2.2022 - accuracy: 0.4387 - val_loss: 2.2334 - val_accuracy: 0.4139\n",
      "Epoch 39/100\n",
      "76/76 [==============================] - 3s 40ms/step - loss: 2.1784 - accuracy: 0.4329 - val_loss: 2.2547 - val_accuracy: 0.3990\n",
      "Epoch 40/100\n",
      "76/76 [==============================] - 3s 42ms/step - loss: 2.1982 - accuracy: 0.4226 - val_loss: 2.2134 - val_accuracy: 0.4172\n",
      "Epoch 41/100\n",
      "76/76 [==============================] - 4s 48ms/step - loss: 2.1794 - accuracy: 0.4474 - val_loss: 2.2176 - val_accuracy: 0.4007\n",
      "Epoch 42/100\n",
      "76/76 [==============================] - 4s 52ms/step - loss: 2.1744 - accuracy: 0.4429 - val_loss: 2.2606 - val_accuracy: 0.3825\n",
      "Epoch 43/100\n",
      "76/76 [==============================] - 3s 40ms/step - loss: 2.1657 - accuracy: 0.4499 - val_loss: 2.2132 - val_accuracy: 0.4056\n",
      "Epoch 44/100\n",
      "76/76 [==============================] - 3s 40ms/step - loss: 2.1625 - accuracy: 0.4280 - val_loss: 2.1895 - val_accuracy: 0.3924\n",
      "Epoch 45/100\n",
      "76/76 [==============================] - 3s 42ms/step - loss: 2.1529 - accuracy: 0.4499 - val_loss: 2.2088 - val_accuracy: 0.3924\n",
      "Epoch 46/100\n",
      "76/76 [==============================] - 4s 56ms/step - loss: 2.1566 - accuracy: 0.4375 - val_loss: 2.1996 - val_accuracy: 0.4255\n",
      "Epoch 47/100\n",
      "76/76 [==============================] - 3s 42ms/step - loss: 2.1398 - accuracy: 0.4466 - val_loss: 2.1762 - val_accuracy: 0.4123\n",
      "Epoch 48/100\n",
      "76/76 [==============================] - 3s 41ms/step - loss: 2.1175 - accuracy: 0.4445 - val_loss: 2.2035 - val_accuracy: 0.4007\n",
      "Epoch 49/100\n",
      "76/76 [==============================] - 3s 40ms/step - loss: 2.1084 - accuracy: 0.4450 - val_loss: 2.1629 - val_accuracy: 0.4272\n",
      "Epoch 50/100\n",
      "76/76 [==============================] - 4s 54ms/step - loss: 2.1067 - accuracy: 0.4619 - val_loss: 2.1734 - val_accuracy: 0.4172\n",
      "Epoch 51/100\n",
      "76/76 [==============================] - 3s 45ms/step - loss: 2.1048 - accuracy: 0.4408 - val_loss: 2.1738 - val_accuracy: 0.3791\n",
      "Epoch 52/100\n",
      "76/76 [==============================] - 3s 40ms/step - loss: 2.0861 - accuracy: 0.4445 - val_loss: 2.1751 - val_accuracy: 0.4404\n",
      "Epoch 53/100\n",
      "76/76 [==============================] - 3s 40ms/step - loss: 2.0680 - accuracy: 0.4599 - val_loss: 2.1392 - val_accuracy: 0.4073\n",
      "Epoch 54/100\n",
      "76/76 [==============================] - 4s 47ms/step - loss: 2.0674 - accuracy: 0.4520 - val_loss: 2.1788 - val_accuracy: 0.4255\n",
      "Epoch 55/100\n",
      "76/76 [==============================] - 4s 51ms/step - loss: 2.0665 - accuracy: 0.4532 - val_loss: 2.1483 - val_accuracy: 0.4371\n",
      "Epoch 56/100\n",
      "76/76 [==============================] - 4s 50ms/step - loss: 2.0389 - accuracy: 0.4694 - val_loss: 2.1493 - val_accuracy: 0.4520\n",
      "Epoch 57/100\n",
      "76/76 [==============================] - 3s 40ms/step - loss: 2.0483 - accuracy: 0.4619 - val_loss: 2.1168 - val_accuracy: 0.4238\n",
      "Epoch 58/100\n",
      "76/76 [==============================] - 3s 46ms/step - loss: 2.0359 - accuracy: 0.4549 - val_loss: 2.0878 - val_accuracy: 0.4172\n",
      "Epoch 59/100\n",
      "76/76 [==============================] - 4s 53ms/step - loss: 2.0620 - accuracy: 0.4367 - val_loss: 2.0768 - val_accuracy: 0.4189\n",
      "Epoch 60/100\n",
      "76/76 [==============================] - 3s 40ms/step - loss: 2.0079 - accuracy: 0.4648 - val_loss: 2.1460 - val_accuracy: 0.4255\n",
      "Epoch 61/100\n",
      "76/76 [==============================] - 3s 43ms/step - loss: 2.0397 - accuracy: 0.4636 - val_loss: 2.0663 - val_accuracy: 0.4305\n",
      "Epoch 62/100\n",
      "76/76 [==============================] - 3s 40ms/step - loss: 2.0362 - accuracy: 0.4607 - val_loss: 2.0664 - val_accuracy: 0.4238\n",
      "Epoch 63/100\n",
      "76/76 [==============================] - 4s 54ms/step - loss: 2.0320 - accuracy: 0.4574 - val_loss: 2.0568 - val_accuracy: 0.4321\n",
      "Epoch 64/100\n",
      "76/76 [==============================] - 3s 43ms/step - loss: 2.0056 - accuracy: 0.4640 - val_loss: 2.0650 - val_accuracy: 0.4222\n",
      "Epoch 65/100\n",
      "76/76 [==============================] - 3s 42ms/step - loss: 1.9875 - accuracy: 0.4557 - val_loss: 2.0806 - val_accuracy: 0.4023\n",
      "Epoch 66/100\n",
      "76/76 [==============================] - 4s 50ms/step - loss: 1.9995 - accuracy: 0.4532 - val_loss: 2.0405 - val_accuracy: 0.4106\n",
      "Epoch 67/100\n",
      "76/76 [==============================] - 4s 54ms/step - loss: 1.9705 - accuracy: 0.4570 - val_loss: 2.0694 - val_accuracy: 0.4172\n",
      "Epoch 68/100\n",
      "76/76 [==============================] - 3s 45ms/step - loss: 1.9515 - accuracy: 0.4764 - val_loss: 2.0222 - val_accuracy: 0.4553\n",
      "Epoch 69/100\n",
      "76/76 [==============================] - 3s 39ms/step - loss: 1.9578 - accuracy: 0.4710 - val_loss: 2.0680 - val_accuracy: 0.4139\n",
      "Epoch 70/100\n",
      "76/76 [==============================] - 3s 40ms/step - loss: 1.9594 - accuracy: 0.4499 - val_loss: 2.0302 - val_accuracy: 0.4222\n",
      "Epoch 71/100\n",
      "76/76 [==============================] - 4s 47ms/step - loss: 1.9340 - accuracy: 0.4752 - val_loss: 2.0303 - val_accuracy: 0.4404\n",
      "Epoch 72/100\n",
      "76/76 [==============================] - 4s 51ms/step - loss: 1.9073 - accuracy: 0.4776 - val_loss: 2.0184 - val_accuracy: 0.4404\n",
      "Epoch 73/100\n",
      "76/76 [==============================] - 3s 39ms/step - loss: 1.9036 - accuracy: 0.4714 - val_loss: 1.9930 - val_accuracy: 0.4503\n",
      "Epoch 74/100\n",
      "76/76 [==============================] - 3s 40ms/step - loss: 1.9056 - accuracy: 0.4553 - val_loss: 2.0217 - val_accuracy: 0.4338\n",
      "Epoch 75/100\n",
      "76/76 [==============================] - 3s 40ms/step - loss: 1.8908 - accuracy: 0.4681 - val_loss: 2.0062 - val_accuracy: 0.4421\n",
      "Epoch 76/100\n",
      "76/76 [==============================] - 4s 58ms/step - loss: 1.8757 - accuracy: 0.4677 - val_loss: 1.9821 - val_accuracy: 0.4189\n",
      "Epoch 77/100\n",
      "76/76 [==============================] - 3s 41ms/step - loss: 1.8950 - accuracy: 0.4632 - val_loss: 1.9845 - val_accuracy: 0.4255\n",
      "Epoch 78/100\n",
      "76/76 [==============================] - 3s 42ms/step - loss: 1.8651 - accuracy: 0.4681 - val_loss: 2.0211 - val_accuracy: 0.4338\n",
      "Epoch 79/100\n",
      "76/76 [==============================] - 3s 40ms/step - loss: 1.8435 - accuracy: 0.4694 - val_loss: 1.9797 - val_accuracy: 0.4371\n",
      "Epoch 80/100\n",
      "76/76 [==============================] - 4s 53ms/step - loss: 1.8405 - accuracy: 0.4710 - val_loss: 1.9970 - val_accuracy: 0.4371\n",
      "Epoch 81/100\n",
      "76/76 [==============================] - 4s 47ms/step - loss: 1.8408 - accuracy: 0.4636 - val_loss: 2.0324 - val_accuracy: 0.4139\n",
      "Epoch 82/100\n",
      "76/76 [==============================] - 3s 40ms/step - loss: 1.8227 - accuracy: 0.4669 - val_loss: 1.9701 - val_accuracy: 0.4272\n",
      "Epoch 83/100\n",
      "76/76 [==============================] - 3s 40ms/step - loss: 1.8131 - accuracy: 0.4735 - val_loss: 1.9949 - val_accuracy: 0.4305\n",
      "Epoch 84/100\n",
      "76/76 [==============================] - 3s 45ms/step - loss: 1.8030 - accuracy: 0.4818 - val_loss: 1.9046 - val_accuracy: 0.4619\n",
      "Epoch 85/100\n",
      "76/76 [==============================] - 4s 52ms/step - loss: 1.8103 - accuracy: 0.4731 - val_loss: 1.8650 - val_accuracy: 0.4553\n",
      "Epoch 86/100\n",
      "76/76 [==============================] - 3s 40ms/step - loss: 1.7861 - accuracy: 0.4822 - val_loss: 2.0370 - val_accuracy: 0.4470\n",
      "Epoch 87/100\n",
      "76/76 [==============================] - 4s 47ms/step - loss: 1.7719 - accuracy: 0.4830 - val_loss: 1.9436 - val_accuracy: 0.4520\n",
      "Epoch 88/100\n",
      "76/76 [==============================] - 3s 42ms/step - loss: 1.7756 - accuracy: 0.4710 - val_loss: 1.9666 - val_accuracy: 0.4619\n",
      "Epoch 89/100\n",
      "76/76 [==============================] - 4s 56ms/step - loss: 1.7301 - accuracy: 0.4863 - val_loss: 1.9101 - val_accuracy: 0.4570\n",
      "Epoch 90/100\n",
      "76/76 [==============================] - 3s 39ms/step - loss: 1.7306 - accuracy: 0.4830 - val_loss: 1.8682 - val_accuracy: 0.4536\n",
      "Epoch 91/100\n",
      "76/76 [==============================] - 3s 39ms/step - loss: 1.7536 - accuracy: 0.4801 - val_loss: 1.9291 - val_accuracy: 0.4387\n",
      "Epoch 92/100\n",
      "76/76 [==============================] - 3s 40ms/step - loss: 1.7256 - accuracy: 0.4661 - val_loss: 1.9013 - val_accuracy: 0.4272\n",
      "Epoch 93/100\n",
      "76/76 [==============================] - 4s 52ms/step - loss: 1.7035 - accuracy: 0.4847 - val_loss: 1.9177 - val_accuracy: 0.4603\n",
      "Epoch 94/100\n",
      "76/76 [==============================] - 4s 47ms/step - loss: 1.6865 - accuracy: 0.4954 - val_loss: 1.9093 - val_accuracy: 0.4305\n",
      "Epoch 95/100\n",
      "76/76 [==============================] - 3s 40ms/step - loss: 1.6758 - accuracy: 0.4946 - val_loss: 1.8991 - val_accuracy: 0.4603\n",
      "Epoch 96/100\n",
      "76/76 [==============================] - 3s 40ms/step - loss: 1.6830 - accuracy: 0.4868 - val_loss: 1.8773 - val_accuracy: 0.4503\n",
      "Epoch 97/100\n",
      "76/76 [==============================] - 4s 47ms/step - loss: 1.6704 - accuracy: 0.4884 - val_loss: 1.8296 - val_accuracy: 0.4536\n",
      "Epoch 98/100\n",
      "76/76 [==============================] - 4s 55ms/step - loss: 1.6584 - accuracy: 0.4884 - val_loss: 1.9306 - val_accuracy: 0.4685\n",
      "Epoch 99/100\n",
      "76/76 [==============================] - 3s 41ms/step - loss: 1.6471 - accuracy: 0.4930 - val_loss: 1.8628 - val_accuracy: 0.4487\n",
      "Epoch 100/100\n",
      "76/76 [==============================] - 4s 51ms/step - loss: 1.6165 - accuracy: 0.4954 - val_loss: 1.8475 - val_accuracy: 0.4603\n"
     ]
    },
    {
     "data": {
      "image/png": "[encoded data removed]",
      "text/plain": [
       "<Figure size 432x288 with 2 Axes>"
      ]
     },
     "metadata": {
      "needs_background": "light"
     },
     "output_type": "display_data"
    }
   ],
   "source": [
    "X, y = load_data(DATA_PATH)\n",
    "\n",
    "    # create train/test split\n",
    "X_train, X_test, y_train, y_test = train_test_split(X, y, test_size=0.2)\n",
    "\n",
    "# build network topology\n",
    "model = keras.Sequential([\n",
    "\n",
    "    # input layer\n",
    "    keras.layers.Flatten(input_shape=(X.shape[1], X.shape[2])),\n",
    "\n",
    "    # 1st dense layer\n",
    "    keras.layers.Dense(512, activation='relu', kernel_regularizer=keras.regularizers.l2(0.001)),\n",
    "    keras.layers.Dropout(0.3),\n",
    "\n",
    "    # 2nd dense layer\n",
    "    keras.layers.Dense(256, activation='relu', kernel_regularizer=keras.regularizers.l2(0.001)),\n",
    "    keras.layers.Dropout(0.3),\n",
    "\n",
    "    # 3rd dense layer\n",
    "    keras.layers.Dense(64, activation='relu', kernel_regularizer=keras.regularizers.l2(0.001)),\n",
    "    keras.layers.Dropout(0.3),\n",
    "\n",
    "    # output layer\n",
    "    keras.layers.Dense(4, activation='softmax')\n",
    "])\n",
    "\n",
    "# compile model\n",
    "optimiser = keras.optimizers.Adam(learning_rate=0.0001)\n",
    "model.compile(optimizer=optimiser,\n",
    "              loss='sparse_categorical_crossentropy',\n",
    "              metrics=['accuracy'])\n",
    "\n",
    "model.summary()\n",
    "\n",
    "# train model\n",
    "history = model.fit(X_train, y_train, validation_data=(X_test, y_test), batch_size=32, epochs=100)\n",
    "\n",
    "# plot accuracy and error as a function of the epochs\n",
    "plot_history(history)"
   ]
  },
  {
   "cell_type": "markdown",
   "metadata": {
    "id": "ZaM5PFDfuSKE"
   },
   "source": [
    "#XGBoost"
   ]
  },
  {
   "cell_type": "code",
   "execution_count": null,
   "metadata": {
    "id": "CIfCNRsss8_1"
   },
   "outputs": [],
   "source": [
    "import pandas as pd\n",
    "from xgboost import XGBClassifier\n",
    "from sklearn.metrics import mean_absolute_error\n",
    "from sklearn.metrics import accuracy_score"
   ]
  },
  {
   "cell_type": "code",
   "execution_count": null,
   "metadata": {
    "colab": {
     "base_uri": "https://localhost:8080/"
    },
    "id": "XDiNNJI11QPt",
    "outputId": "0b487a97-61dd-4737-8029-a876b8271f7c"
   },
   "outputs": [
    {
     "name": "stdout",
     "output_type": "stream",
     "text": [
      "Data succesfully loaded!\n"
     ]
    }
   ],
   "source": [
    "X, y = load_data(DATA_PATH)\n",
    "X_train, X_test, y_train, y_test = train_test_split(X, y, test_size=0.2)"
   ]
  },
  {
   "cell_type": "code",
   "execution_count": null,
   "metadata": {
    "colab": {
     "base_uri": "https://localhost:8080/"
    },
    "id": "MoaILKUX1lnF",
    "outputId": "6c7c8781-ca83-4092-9f48-bcd08442479d"
   },
   "outputs": [
    {
     "data": {
      "text/plain": [
       "(2416, 3367)"
      ]
     },
     "execution_count": 9,
     "metadata": {},
     "output_type": "execute_result"
    }
   ],
   "source": [
    "X_train.shape"
   ]
  },
  {
   "cell_type": "code",
   "execution_count": null,
   "metadata": {
    "id": "8mev04Dv15W8"
   },
   "outputs": [],
   "source": [
    "X_train = X_train.reshape(X_train.shape[0], -1)\n",
    "X_test = X_test.reshape(X_test.shape[0], -1)"
   ]
  },
  {
   "cell_type": "code",
   "execution_count": null,
   "metadata": {
    "colab": {
     "base_uri": "https://localhost:8080/",
     "height": 251
    },
    "id": "v1AYEqaKuVw3",
    "outputId": "1a4bc6a6-a7e0-4a28-bbd2-db44b1cff667"
   },
   "outputs": [
    {
     "data": {
      "text/html": [
       "<style>#sk-container-id-1 {color: black;background-color: white;}#sk-container-id-1 pre{padding: 0;}#sk-container-id-1 div.sk-toggleable {background-color: white;}#sk-container-id-1 label.sk-toggleable__label {cursor: pointer;display: block;width: 100%;margin-bottom: 0;padding: 0.3em;box-sizing: border-box;text-align: center;}#sk-container-id-1 label.sk-toggleable__label-arrow:before {content: \"▸\";float: left;margin-right: 0.25em;color: #696969;}#sk-container-id-1 label.sk-toggleable__label-arrow:hover:before {color: black;}#sk-container-id-1 div.sk-estimator:hover label.sk-toggleable__label-arrow:before {color: black;}#sk-container-id-1 div.sk-toggleable__content {max-height: 0;max-width: 0;overflow: hidden;text-align: left;background-color: #f0f8ff;}#sk-container-id-1 div.sk-toggleable__content pre {margin: 0.2em;color: black;border-radius: 0.25em;background-color: #f0f8ff;}#sk-container-id-1 input.sk-toggleable__control:checked~div.sk-toggleable__content {max-height: 200px;max-width: 100%;overflow: auto;}#sk-container-id-1 input.sk-toggleable__control:checked~label.sk-toggleable__label-arrow:before {content: \"▾\";}#sk-container-id-1 div.sk-estimator input.sk-toggleable__control:checked~label.sk-toggleable__label {background-color: #d4ebff;}#sk-container-id-1 div.sk-label input.sk-toggleable__control:checked~label.sk-toggleable__label {background-color: #d4ebff;}#sk-container-id-1 input.sk-hidden--visually {border: 0;clip: rect(1px 1px 1px 1px);clip: rect(1px, 1px, 1px, 1px);height: 1px;margin: -1px;overflow: hidden;padding: 0;position: absolute;width: 1px;}#sk-container-id-1 div.sk-estimator {font-family: monospace;background-color: #f0f8ff;border: 1px dotted black;border-radius: 0.25em;box-sizing: border-box;margin-bottom: 0.5em;}#sk-container-id-1 div.sk-estimator:hover {background-color: #d4ebff;}#sk-container-id-1 div.sk-parallel-item::after {content: \"\";width: 100%;border-bottom: 1px solid gray;flex-grow: 1;}#sk-container-id-1 div.sk-label:hover label.sk-toggleable__label {background-color: #d4ebff;}#sk-container-id-1 div.sk-serial::before {content: \"\";position: absolute;border-left: 1px solid gray;box-sizing: border-box;top: 0;bottom: 0;left: 50%;z-index: 0;}#sk-container-id-1 div.sk-serial {display: flex;flex-direction: column;align-items: center;background-color: white;padding-right: 0.2em;padding-left: 0.2em;position: relative;}#sk-container-id-1 div.sk-item {position: relative;z-index: 1;}#sk-container-id-1 div.sk-parallel {display: flex;align-items: stretch;justify-content: center;background-color: white;position: relative;}#sk-container-id-1 div.sk-item::before, #sk-container-id-1 div.sk-parallel-item::before {content: \"\";position: absolute;border-left: 1px solid gray;box-sizing: border-box;top: 0;bottom: 0;left: 50%;z-index: -1;}#sk-container-id-1 div.sk-parallel-item {display: flex;flex-direction: column;z-index: 1;position: relative;background-color: white;}#sk-container-id-1 div.sk-parallel-item:first-child::after {align-self: flex-end;width: 50%;}#sk-container-id-1 div.sk-parallel-item:last-child::after {align-self: flex-start;width: 50%;}#sk-container-id-1 div.sk-parallel-item:only-child::after {width: 0;}#sk-container-id-1 div.sk-dashed-wrapped {border: 1px dashed gray;margin: 0 0.4em 0.5em 0.4em;box-sizing: border-box;padding-bottom: 0.4em;background-color: white;}#sk-container-id-1 div.sk-label label {font-family: monospace;font-weight: bold;display: inline-block;line-height: 1.2em;}#sk-container-id-1 div.sk-label-container {text-align: center;}#sk-container-id-1 div.sk-container {/* jupyter's `normalize.less` sets `[hidden] { display: none; }` but bootstrap.min.css set `[hidden] { display: none !important; }` so we also need the `!important` here to be able to override the default hidden behavior on the sphinx rendered scikit-learn.org. See: https://github.com/scikit-learn/scikit-learn/issues/21755 */display: inline-block !important;position: relative;}#sk-container-id-1 div.sk-text-repr-fallback {display: none;}</style><div id=\"sk-container-id-1\" class=\"sk-top-container\"><div class=\"sk-text-repr-fallback\"><pre>XGBClassifier(base_score=None, booster=None, callbacks=None,\n",
       "              colsample_bylevel=None, colsample_bynode=None,\n",
       "              colsample_bytree=None, early_stopping_rounds=None,\n",
       "              enable_categorical=False,\n",
       "              eval_metric=&lt;function mean_absolute_error at 0x7f2115d72940&gt;,\n",
       "              feature_types=None, gamma=None, gpu_id=None, grow_policy=None,\n",
       "              importance_type=None, interaction_constraints=None,\n",
       "              learning_rate=0.001, max_bin=None, max_cat_threshold=None,\n",
       "              max_cat_to_onehot=None, max_delta_step=None, max_depth=None,\n",
       "              max_leaves=None, min_child_weight=None, missing=nan,\n",
       "              monotone_constraints=None, n_estimators=100, n_jobs=None,\n",
       "              num_parallel_tree=None, objective=&#x27;multi:softprob&#x27;,\n",
       "              predictor=None, ...)</pre><b>In a Jupyter environment, please rerun this cell to show the HTML representation or trust the notebook. <br />On GitHub, the HTML representation is unable to render, please try loading this page with nbviewer.org.</b></div><div class=\"sk-container\" hidden><div class=\"sk-item\"><div class=\"sk-estimator sk-toggleable\"><input class=\"sk-toggleable__control sk-hidden--visually\" id=\"sk-estimator-id-1\" type=\"checkbox\" checked><label for=\"sk-estimator-id-1\" class=\"sk-toggleable__label sk-toggleable__label-arrow\">XGBClassifier</label><div class=\"sk-toggleable__content\"><pre>XGBClassifier(base_score=None, booster=None, callbacks=None,\n",
       "              colsample_bylevel=None, colsample_bynode=None,\n",
       "              colsample_bytree=None, early_stopping_rounds=None,\n",
       "              enable_categorical=False,\n",
       "              eval_metric=&lt;function mean_absolute_error at 0x7f2115d72940&gt;,\n",
       "              feature_types=None, gamma=None, gpu_id=None, grow_policy=None,\n",
       "              importance_type=None, interaction_constraints=None,\n",
       "              learning_rate=0.001, max_bin=None, max_cat_threshold=None,\n",
       "              max_cat_to_onehot=None, max_delta_step=None, max_depth=None,\n",
       "              max_leaves=None, min_child_weight=None, missing=nan,\n",
       "              monotone_constraints=None, n_estimators=100, n_jobs=None,\n",
       "              num_parallel_tree=None, objective=&#x27;multi:softprob&#x27;,\n",
       "              predictor=None, ...)</pre></div></div></div></div></div>"
      ],
      "text/plain": [
       "XGBClassifier(base_score=None, booster=None, callbacks=None,\n",
       "              colsample_bylevel=None, colsample_bynode=None,\n",
       "              colsample_bytree=None, early_stopping_rounds=None,\n",
       "              enable_categorical=False,\n",
       "              eval_metric=<function mean_absolute_error at 0x7f2115d72940>,\n",
       "              feature_types=None, gamma=None, gpu_id=None, grow_policy=None,\n",
       "              importance_type=None, interaction_constraints=None,\n",
       "              learning_rate=0.001, max_bin=None, max_cat_threshold=None,\n",
       "              max_cat_to_onehot=None, max_delta_step=None, max_depth=None,\n",
       "              max_leaves=None, min_child_weight=None, missing=nan,\n",
       "              monotone_constraints=None, n_estimators=100, n_jobs=None,\n",
       "              num_parallel_tree=None, objective='multi:softprob',\n",
       "              predictor=None, ...)"
      ]
     },
     "execution_count": 20,
     "metadata": {},
     "output_type": "execute_result"
    }
   ],
   "source": [
    "model = XGBClassifier(learning_rate=0.001,eval_metric=mean_absolute_error)\n",
    "model.fit(X_train, y_train)"
   ]
  },
  {
   "cell_type": "code",
   "execution_count": null,
   "metadata": {
    "colab": {
     "base_uri": "https://localhost:8080/"
    },
    "id": "XFYVpA1u6tRN",
    "outputId": "6681761a-2900-4862-baa5-7dff0a2097f3"
   },
   "outputs": [
    {
     "name": "stdout",
     "output_type": "stream",
     "text": [
      "Accuracy: 46.85%\n"
     ]
    }
   ],
   "source": [
    "y_pred = model.predict(X_test)\n",
    "accuracy = accuracy_score(y_test, y_pred)\n",
    "print(\"Accuracy: %.2f%%\" % (accuracy * 100.0))"
   ]
  },
  {
   "cell_type": "markdown",
   "metadata": {
    "id": "UYGBR94z8GF8"
   },
   "source": [
    "#SVC"
   ]
  },
  {
   "cell_type": "code",
   "execution_count": null,
   "metadata": {
    "id": "_5mUO0O38Jgr"
   },
   "outputs": [],
   "source": [
    "from sklearn.svm import SVC\n",
    "from sklearn.model_selection import train_test_split\n",
    "from sklearn.metrics import accuracy_score"
   ]
  },
  {
   "cell_type": "code",
   "execution_count": null,
   "metadata": {
    "colab": {
     "base_uri": "https://localhost:8080/"
    },
    "id": "yR8F63GBCRSM",
    "outputId": "8d07c7a2-5098-4e2d-ae44-0b4de1fef0ae"
   },
   "outputs": [
    {
     "name": "stdout",
     "output_type": "stream",
     "text": [
      "Data succesfully loaded!\n"
     ]
    }
   ],
   "source": [
    "X, y = load_data(DATA_PATH)"
   ]
  },
  {
   "cell_type": "code",
   "execution_count": null,
   "metadata": {
    "id": "sYoafxslN17V"
   },
   "outputs": [],
   "source": [
    "X_train, X_test, y_train, y_test = train_test_split(X, y, test_size=0.2)"
   ]
  },
  {
   "cell_type": "code",
   "execution_count": null,
   "metadata": {
    "id": "JPG_uzkzOxVx"
   },
   "outputs": [],
   "source": [
    "X_train = X_train.reshape(X_train.shape[0],-1)\n",
    "X_test = X_test.reshape(X_test.shape[0],-1)"
   ]
  },
  {
   "cell_type": "code",
   "execution_count": null,
   "metadata": {
    "colab": {
     "base_uri": "https://localhost:8080/",
     "height": 74
    },
    "id": "lXvdPSR4N65H",
    "outputId": "aea0790b-c101-4f85-dedc-5c7b990957bd"
   },
   "outputs": [
    {
     "data": {
      "text/html": [
       "<style>#sk-container-id-4 {color: black;background-color: white;}#sk-container-id-4 pre{padding: 0;}#sk-container-id-4 div.sk-toggleable {background-color: white;}#sk-container-id-4 label.sk-toggleable__label {cursor: pointer;display: block;width: 100%;margin-bottom: 0;padding: 0.3em;box-sizing: border-box;text-align: center;}#sk-container-id-4 label.sk-toggleable__label-arrow:before {content: \"▸\";float: left;margin-right: 0.25em;color: #696969;}#sk-container-id-4 label.sk-toggleable__label-arrow:hover:before {color: black;}#sk-container-id-4 div.sk-estimator:hover label.sk-toggleable__label-arrow:before {color: black;}#sk-container-id-4 div.sk-toggleable__content {max-height: 0;max-width: 0;overflow: hidden;text-align: left;background-color: #f0f8ff;}#sk-container-id-4 div.sk-toggleable__content pre {margin: 0.2em;color: black;border-radius: 0.25em;background-color: #f0f8ff;}#sk-container-id-4 input.sk-toggleable__control:checked~div.sk-toggleable__content {max-height: 200px;max-width: 100%;overflow: auto;}#sk-container-id-4 input.sk-toggleable__control:checked~label.sk-toggleable__label-arrow:before {content: \"▾\";}#sk-container-id-4 div.sk-estimator input.sk-toggleable__control:checked~label.sk-toggleable__label {background-color: #d4ebff;}#sk-container-id-4 div.sk-label input.sk-toggleable__control:checked~label.sk-toggleable__label {background-color: #d4ebff;}#sk-container-id-4 input.sk-hidden--visually {border: 0;clip: rect(1px 1px 1px 1px);clip: rect(1px, 1px, 1px, 1px);height: 1px;margin: -1px;overflow: hidden;padding: 0;position: absolute;width: 1px;}#sk-container-id-4 div.sk-estimator {font-family: monospace;background-color: #f0f8ff;border: 1px dotted black;border-radius: 0.25em;box-sizing: border-box;margin-bottom: 0.5em;}#sk-container-id-4 div.sk-estimator:hover {background-color: #d4ebff;}#sk-container-id-4 div.sk-parallel-item::after {content: \"\";width: 100%;border-bottom: 1px solid gray;flex-grow: 1;}#sk-container-id-4 div.sk-label:hover label.sk-toggleable__label {background-color: #d4ebff;}#sk-container-id-4 div.sk-serial::before {content: \"\";position: absolute;border-left: 1px solid gray;box-sizing: border-box;top: 0;bottom: 0;left: 50%;z-index: 0;}#sk-container-id-4 div.sk-serial {display: flex;flex-direction: column;align-items: center;background-color: white;padding-right: 0.2em;padding-left: 0.2em;position: relative;}#sk-container-id-4 div.sk-item {position: relative;z-index: 1;}#sk-container-id-4 div.sk-parallel {display: flex;align-items: stretch;justify-content: center;background-color: white;position: relative;}#sk-container-id-4 div.sk-item::before, #sk-container-id-4 div.sk-parallel-item::before {content: \"\";position: absolute;border-left: 1px solid gray;box-sizing: border-box;top: 0;bottom: 0;left: 50%;z-index: -1;}#sk-container-id-4 div.sk-parallel-item {display: flex;flex-direction: column;z-index: 1;position: relative;background-color: white;}#sk-container-id-4 div.sk-parallel-item:first-child::after {align-self: flex-end;width: 50%;}#sk-container-id-4 div.sk-parallel-item:last-child::after {align-self: flex-start;width: 50%;}#sk-container-id-4 div.sk-parallel-item:only-child::after {width: 0;}#sk-container-id-4 div.sk-dashed-wrapped {border: 1px dashed gray;margin: 0 0.4em 0.5em 0.4em;box-sizing: border-box;padding-bottom: 0.4em;background-color: white;}#sk-container-id-4 div.sk-label label {font-family: monospace;font-weight: bold;display: inline-block;line-height: 1.2em;}#sk-container-id-4 div.sk-label-container {text-align: center;}#sk-container-id-4 div.sk-container {/* jupyter's `normalize.less` sets `[hidden] { display: none; }` but bootstrap.min.css set `[hidden] { display: none !important; }` so we also need the `!important` here to be able to override the default hidden behavior on the sphinx rendered scikit-learn.org. See: https://github.com/scikit-learn/scikit-learn/issues/21755 */display: inline-block !important;position: relative;}#sk-container-id-4 div.sk-text-repr-fallback {display: none;}</style><div id=\"sk-container-id-4\" class=\"sk-top-container\"><div class=\"sk-text-repr-fallback\"><pre>SVC()</pre><b>In a Jupyter environment, please rerun this cell to show the HTML representation or trust the notebook. <br />On GitHub, the HTML representation is unable to render, please try loading this page with nbviewer.org.</b></div><div class=\"sk-container\" hidden><div class=\"sk-item\"><div class=\"sk-estimator sk-toggleable\"><input class=\"sk-toggleable__control sk-hidden--visually\" id=\"sk-estimator-id-4\" type=\"checkbox\" checked><label for=\"sk-estimator-id-4\" class=\"sk-toggleable__label sk-toggleable__label-arrow\">SVC</label><div class=\"sk-toggleable__content\"><pre>SVC()</pre></div></div></div></div></div>"
      ],
      "text/plain": [
       "SVC()"
      ]
     },
     "execution_count": 38,
     "metadata": {},
     "output_type": "execute_result"
    }
   ],
   "source": [
    "svc_model = SVC()\n",
    "svc_model.fit(X_train, y_train)"
   ]
  },
  {
   "cell_type": "code",
   "execution_count": null,
   "metadata": {
    "colab": {
     "base_uri": "https://localhost:8080/"
    },
    "id": "6mRbRs4jPZH3",
    "outputId": "93c87bd8-f6ca-401f-f644-42862f95fb4d"
   },
   "outputs": [
    {
     "name": "stdout",
     "output_type": "stream",
     "text": [
      "Accuracy: 74.17%\n"
     ]
    }
   ],
   "source": [
    "y_pred = model.predict(X_test)\n",
    "accuracy = accuracy_score(y_test, y_pred)\n",
    "print(\"Accuracy: %.2f%%\" % (accuracy * 100.0))"
   ]
  },
  {
   "cell_type": "code",
   "execution_count": null,
   "metadata": {
    "id": "KgGnr7hsQXp3"
   },
   "outputs": [],
   "source": []
  }
 ],
 "metadata": {
  "colab": {
   "provenance": []
  },
  "kernelspec": {
   "display_name": "Python 3 (ipykernel)",
   "language": "python",
   "name": "python3"
  },
  "language_info": {
   "codemirror_mode": {
    "name": "ipython",
    "version": 3
   },
   "file_extension": ".py",
   "mimetype": "text/x-python",
   "name": "python",
   "nbconvert_exporter": "python",
   "pygments_lexer": "ipython3",
   "version": "3.10.10"
  }
 },
 "nbformat": 4,
 "nbformat_minor": 1
}
